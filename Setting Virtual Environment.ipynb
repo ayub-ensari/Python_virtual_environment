{
 "cells": [
  {
   "cell_type": "markdown",
   "id": "a2350cd9",
   "metadata": {},
   "source": [
    "# Setting up Virtual Environment on Windows 11"
   ]
  },
  {
   "cell_type": "markdown",
   "id": "67c3a06f",
   "metadata": {},
   "source": [
    "## 1 - Install Python"
   ]
  },
  {
   "cell_type": "code",
   "execution_count": null,
   "id": "105fb651",
   "metadata": {},
   "outputs": [],
   "source": [
    "Dowload python and install with \"environment variable\" box checked.\n",
    "<br>Open CMD and Run\n",
    "<br>>>> python --version"
   ]
  },
  {
   "cell_type": "markdown",
   "id": "768229a3",
   "metadata": {},
   "source": [
    "## 2 - Create virtual environment\n",
    "<br> Create a local folder where you want to create the virtual environment\n",
    "<br> >>> cd D:/Python_Experiments/\n",
    "<br> >>> python -m venv \"ve_name\"\n",
    "<br> \n",
    "<br> Activate virtual enviornment\n",
    "<br> >>>./ve_name/Scripts/activate\n",
    "<br> \n",
    "<br> Upgrade Pip\n",
    "<br> >>> python -m pip install --upgrade pip\n",
    "<br> \n",
    "<br> Install python Kernel\n",
    "<br> >>> pip install ipykernel\n",
    "<br> \n",
    "<br> Install Dependencies\n",
    "<br> >>> pip install jupyter notebook\n",
    "<br>\n",
    "<br> Link user to the kernel\n",
    "<br> >>> python -m ipykernel install --user --name \"ve_name\"\n"
   ]
  },
  {
   "cell_type": "markdown",
   "id": "b8172b7c",
   "metadata": {},
   "source": [
    "## 3 - Run the Jupyter Notebook\n",
    "<br> >>> jupyter notebook\n",
    "<br>"
   ]
  },
  {
   "cell_type": "code",
   "execution_count": null,
   "id": "508adce8",
   "metadata": {},
   "outputs": [],
   "source": []
  }
 ],
 "metadata": {
  "kernelspec": {
   "display_name": "ve_amexci",
   "language": "python",
   "name": "ve_amexci"
  },
  "language_info": {
   "codemirror_mode": {
    "name": "ipython",
    "version": 3
   },
   "file_extension": ".py",
   "mimetype": "text/x-python",
   "name": "python",
   "nbconvert_exporter": "python",
   "pygments_lexer": "ipython3",
   "version": "3.10.11"
  }
 },
 "nbformat": 4,
 "nbformat_minor": 5
}
